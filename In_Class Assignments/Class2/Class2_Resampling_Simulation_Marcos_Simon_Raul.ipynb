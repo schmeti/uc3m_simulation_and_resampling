{
 "cells": [
  {
   "cell_type": "markdown",
   "metadata": {},
   "source": [
    "# Python Code from the Second Class by\n",
    "- Raul Rodriguez Garcia\n",
    "- Marcos Álvarez Martín\n",
    "- Simon Schmetz"
   ]
  },
  {
   "cell_type": "code",
   "execution_count": 2,
   "metadata": {},
   "outputs": [
    {
     "name": "stdout",
     "output_type": "stream",
     "text": [
      "KS Statistic: 0.015573674685542938, p-value: 0.9654462223104827\n"
     ]
    }
   ],
   "source": [
    "## KS test for exponential distribution\n",
    "\n",
    "import numpy as np\n",
    "from scipy.stats import kstest\n",
    "\n",
    "MC = 1000\n",
    "np.random.seed(1)\n",
    "\n",
    "sim_exp = -np.log(np.random.uniform(size=MC))\n",
    "ks_stat, p_value = kstest(sim_exp, 'expon', args=(0, 1))\n",
    "\n",
    "print(f\"KS Statistic: {ks_stat}, p-value: {p_value}\")"
   ]
  },
  {
   "cell_type": "markdown",
   "metadata": {},
   "source": []
  },
  {
   "cell_type": "code",
   "execution_count": 3,
   "metadata": {},
   "outputs": [
    {
     "data": {
      "text/plain": [
       "array([1.12144099, 0.2854077 , 0.75613165, 0.39995527, 0.26424035,\n",
       "       1.64290991, 0.66931147, 0.83850689, 0.78952801, 0.13574166])"
      ]
     },
     "execution_count": 3,
     "metadata": {},
     "output_type": "execute_result"
    }
   ],
   "source": [
    "import numpy as np\n",
    "\n",
    "def absnorm(n):\n",
    "    y = np.zeros(n)\n",
    "    for i in range(n):\n",
    "        y[i] = -np.log(np.random.uniform(0, 1))\n",
    "        while np.random.uniform(0, 1) > np.exp(-((y[i] - 1) ** 2) / 2):\n",
    "            y[i] = -np.log(np.random.uniform(0, 1))\n",
    "    return y\n",
    "\n",
    "absnorm(10)"
   ]
  }
 ],
 "metadata": {
  "kernelspec": {
   "display_name": "Python 3",
   "language": "python",
   "name": "python3"
  },
  "language_info": {
   "codemirror_mode": {
    "name": "ipython",
    "version": 3
   },
   "file_extension": ".py",
   "mimetype": "text/x-python",
   "name": "python",
   "nbconvert_exporter": "python",
   "pygments_lexer": "ipython3",
   "version": "3.10.0"
  }
 },
 "nbformat": 4,
 "nbformat_minor": 2
}
