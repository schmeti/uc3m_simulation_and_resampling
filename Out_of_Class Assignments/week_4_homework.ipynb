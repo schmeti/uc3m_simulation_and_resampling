{
 "cells": [
  {
   "cell_type": "markdown",
   "metadata": {},
   "source": [
    "# Homework 3\n",
    "\n",
    "Simulation and Resampling\n",
    "\n",
    "- MARCOS ÁLVAREZ MARTÍN\n",
    "- SIMON SCHMETZ\n",
    "\n",
    "# Ex 1: Random Permutations\n",
    "\n",
    "## a)\n",
    "The method is not fair as not all allowed permutations have the same probability.\n",
    "\n",
    " \n",
    "1. Initial Random Selection  \n",
    "   - The first turn is assigned randomly among all four individuals. Each has an equal probability of 1/4.\n",
    "\n",
    "2. Second Turn Selection  \n",
    "   - If Alice was not assigned the first turn, the second turn is assigned randomly among the remaining three, giving each a probability of 1/3.\n",
    "   - If Alice was assigned the first turn, the second turn is assigned randomly among the remaining three, with each having a 1/3 probability.\n",
    "\n",
    "3. Alice's Constraint  \n",
    "   - If Alice has not been assigned a turn in the first two selections, she is forced into the third turn.\n",
    "   - If Alice was already assigned a turn in the first two, the third turn is randomly assigned among the two remaining individuals, each having a 1/2 probability.\n",
    "\n",
    "4. Fourth Turn Assignment  \n",
    "   - The last remaining individual automatically takes the fourth turn.\n",
    "\n",
    "__Probability Calculation__\n",
    "\n",
    "The process introduces dependencies that make some orderings more probable than others:\n",
    "\n",
    "- Alice is forced into the third turn if she was not picked in the first two turns. This restricts the possible sequences that can occur.\n",
    "- The individual taking the fourth turn is not chosen randomly but is instead determined based on prior choices.\n",
    "\n",
    "Thus, not all permutations are equally likely, violating fairness in the sense of uniform randomness. The method is therefore not fair because the probabilities of different valid orderings are not equal due to the imposed restriction on Alice’s turn.\n",
    "\n",
    "## b)\n"
   ]
  },
  {
   "cell_type": "code",
   "execution_count": 69,
   "metadata": {},
   "outputs": [
    {
     "name": "stdout",
     "output_type": "stream",
     "text": [
      "('Alice', 'Bob', 'Charly', 'Dave')\n"
     ]
    }
   ],
   "source": [
    "import random\n",
    "from itertools import permutations\n",
    "\n",
    "def fair_bathroom_schedule():\n",
    "    people = [\"Alice\", \"Bob\", \"Charly\", \"Dave\"]\n",
    "    valid_permutations = []\n",
    "\n",
    "    # Generate all valid assignments where Alice is in the first two slots\n",
    "    for perm in permutations(people):\n",
    "        if perm.index(\"Alice\") in [0, 1]:  # Alice must be in first or second slot\n",
    "            valid_permutations.append(perm)\n",
    "\n",
    "    # Randomly choose one of the valid assignments\n",
    "    return random.choice(valid_permutations)\n",
    "\n",
    "# Example usage:\n",
    "schedule = fair_bathroom_schedule()\n",
    "print(schedule)\n"
   ]
  },
  {
   "cell_type": "markdown",
   "metadata": {},
   "source": [
    "# Ex 2: Compound Poisson process\n",
    "## a)\n",
    "First we simulate the average time to 100 items purchased by drawing samples from the distribution of the interarrival times (Exponential Distribution) and adding them to the current time and thus moving from event to event. The time measured in days and starts at day 1 as starting at time=0 would lead to rate=0."
   ]
  },
  {
   "cell_type": "code",
   "execution_count": 70,
   "metadata": {},
   "outputs": [
    {
     "name": "stdout",
     "output_type": "stream",
     "text": [
      "Average time until 100 purchases: 15.47 days\n"
     ]
    }
   ],
   "source": [
    "import numpy as np\n",
    "\n",
    "num_simulations=1\n",
    "target_purchases=100\n",
    "\n",
    "total_times = []\n",
    "for _ in range(num_simulations):\n",
    "    time = 1  # Start on day 1 - time measured in days\n",
    "    purchases = 0\n",
    "\n",
    "    while purchases < target_purchases:\n",
    "\n",
    "        rate = time if time <= 10 else 10\n",
    "        \n",
    "        # Interarrival time (exponential distribution with rate λ) -> 1/rate as np requires scale parameter\n",
    "        inter_arrival_time = np.random.exponential(1/rate) \n",
    "\n",
    "        # new purchase made\n",
    "        time += inter_arrival_time\n",
    "        purchases += 1\n",
    "\n",
    "    total_times.append(time)\n",
    "\n",
    "# Calculate the average time\n",
    "print(f\"Average time until 100 purchases: {np.mean(total_times):.2f} days\")\n"
   ]
  },
  {
   "cell_type": "markdown",
   "metadata": {},
   "source": [
    "## b) \n",
    "\n",
    "Now we simulate the mean time that it takes for the total sales price of a product palette of three products with respective probabilites to accumulate to 25000 €, again using interarrival times."
   ]
  },
  {
   "cell_type": "code",
   "execution_count": 71,
   "metadata": {},
   "outputs": [
    {
     "name": "stdout",
     "output_type": "stream",
     "text": [
      "Expected time until total sales reach 25000 euros: 13.99 days\n"
     ]
    }
   ],
   "source": [
    "\n",
    "num_simulations=10000\n",
    "target_sales=25000\n",
    "total_times = []\n",
    "\n",
    "# Product prices and probabilities\n",
    "product_prices = [200, 300, 500]\n",
    "product_probabilities = [0.5, 0.3, 0.2]\n",
    "\n",
    "for _ in range(num_simulations):\n",
    "    time = 1  # Start with a small positive value to avoid division by zero\n",
    "    total_sales = 0\n",
    "\n",
    "    while total_sales < target_sales:\n",
    "        # rate function: λ(x) = x for the first 10 days, λ(x) = 10 thereafter\n",
    "        rate = time if time <= 10 else 10\n",
    "\n",
    "        # Interarrival Time (exponential distribution with rate λ)\n",
    "        inter_arrival_time = np.random.exponential(1/rate)\n",
    "\n",
    "        time += inter_arrival_time\n",
    "\n",
    "        # Choose a product based on probabilities\n",
    "        product_index = np.random.choice([0, 1, 2], p=product_probabilities)\n",
    "        total_sales += product_prices[product_index]\n",
    "\n",
    "    total_times.append(time)\n",
    "\n",
    "print(f\"Expected time until total sales reach 25000 euros: {np.mean(total_times):.2f} days\")"
   ]
  }
 ],
 "metadata": {
  "kernelspec": {
   "display_name": "Python 3",
   "language": "python",
   "name": "python3"
  },
  "language_info": {
   "codemirror_mode": {
    "name": "ipython",
    "version": 3
   },
   "file_extension": ".py",
   "mimetype": "text/x-python",
   "name": "python",
   "nbconvert_exporter": "python",
   "pygments_lexer": "ipython3",
   "version": "3.10.0"
  }
 },
 "nbformat": 4,
 "nbformat_minor": 2
}
