{
 "cells": [
  {
   "cell_type": "markdown",
   "metadata": {},
   "source": [
    "# Homework - Week 3"
   ]
  },
  {
   "cell_type": "markdown",
   "metadata": {},
   "source": [
    "# Ex1:\n",
    "Using inverse transform method:\n",
    "\n",
    "1. $U \\sim \\text{Uniform}(0,1) $.\n",
    "2. Solve for $ t $ in terms of $ U $:\n",
    "\n",
    "   $\n",
    "   F_T(t) = 1 - \\left(\\frac{2}{t}\\right)^3\n",
    "   $\n",
    "\n",
    "   Setting $ F_T(t) = U $:\n",
    "\n",
    "   $\n",
    "   1 - \\left(\\frac{2}{t}\\right)^3 = U\n",
    "   $\n",
    "\n",
    "3. Solve for $ t $:\n",
    "\n",
    "   $\n",
    "   \\left(\\frac{2}{t}\\right)^3 = 1 - U\n",
    "   $\n",
    "\n",
    "   $\n",
    "   \\frac{2}{t} = (1 - U)^{1/3}\n",
    "   $\n",
    "\n",
    "   $\n",
    "   t = \\frac{2}{(1 - U)^{1/3}}\n",
    "   $\n",
    "\n",
    "   $\n",
    "   t = 2 (1 - U)^{-1/3}\n",
    "   $\n"
   ]
  },
  {
   "cell_type": "code",
   "execution_count": null,
   "metadata": {},
   "outputs": [
    {
     "ename": "",
     "evalue": "",
     "output_type": "error",
     "traceback": [
      "\u001b[1;31mRunning cells with 'base (Python 3.9.12)' requires the ipykernel package.\n",
      "\u001b[1;31mRun the following command to install 'ipykernel' into the Python environment. \n",
      "\u001b[1;31mCommand: 'conda install -n base ipykernel --update-deps --force-reinstall'"
     ]
    }
   ],
   "source": [
    "import numpy as np\n",
    "import matplotlib.pyplot as plt\n",
    "\n",
    "np.random.seed(123)\n",
    "\n",
    "# sample from inverse\n",
    "def sample_from_cdf(n=1):\n",
    "    U = np.random.uniform(0, 1, n) \n",
    "    T = 2 * (1 - U) ** (-1/3)\n",
    "    return T\n",
    "\n",
    "# generate & plot samples\n",
    "samples = sample_from_cdf(1000)\n",
    "\n",
    "plt.hist(samples, edgecolor='black')\n",
    "plt.title('Histogram of Samples')\n",
    "plt.xlabel('Value')\n",
    "plt.ylabel('Frequency')\n",
    "plt.show()"
   ]
  },
  {
   "cell_type": "markdown",
   "metadata": {},
   "source": [
    "## Ex2:"
   ]
  },
  {
   "cell_type": "markdown",
   "metadata": {},
   "source": [
    "\n",
    "### a)\n",
    "\n",
    "Given: \n",
    "\n",
    "$ T \\sim \\text{Pareto}(x_m = 2, \\alpha = 3)$ -> PDF:  $ f_T(t) = \\frac{6}{t^4}, \\quad t > 2 $\n",
    "\n",
    "$ S \\sim \\text{Pareto}(x_m = 2, \\alpha = 4)$ -> PDF:  $ f_S(t) = \\frac{8}{t^5}, \\quad t > 2$\n",
    "\n",
    "\n",
    "To find $ M $:\n",
    "\n",
    "$ f_S(t) \\leq M f_T(t)$\n",
    "\n",
    "$ \\frac{8}{t^5} \\leq M \\cdot \\frac{6}{t^4} $\n",
    "\n",
    "-> $ \\frac{8}{6t} \\leq  M$\n",
    "\n",
    "For all $ t > 2 $, the maximum is at $ t = 2 $:\n",
    "\n",
    "$\n",
    "M = \\frac{8}{6 \\times 2} = \\frac{4}{6} = \\frac{2}{3}\n",
    "$\n",
    "\n",
    "-> $ M = \\frac{4}{3}$\n"
   ]
  },
  {
   "cell_type": "code",
   "execution_count": null,
   "metadata": {},
   "outputs": [],
   "source": [
    "import numpy as np\n",
    "import scipy.stats as stats\n",
    "\n",
    "# Sample generation algo\n",
    "def sample_pareto_s(n):\n",
    "\n",
    "    # params\n",
    "    x_m = 2  \n",
    "    alpha_T = 3 \n",
    "    alpha_S = 4\n",
    "    M = 4/3 \n",
    "\n",
    "    samples = []\n",
    "    samples_rejected = []\n",
    "    while len(samples) < n:\n",
    "        T = (np.random.pareto(alpha_T, 1) + 1) * x_m  # sample\n",
    "        U = np.random.uniform(0, 1)\n",
    "    \n",
    "        # acceptance ratio\n",
    "        acceptance_ratio = (8 / T**5) / (M * (6 / T**4))\n",
    "\n",
    "        if U <= acceptance_ratio:\n",
    "            samples.append(T[0])\n",
    "        else:\n",
    "            samples_rejected.append(T[0])\n",
    "    return np.array(samples),np.array(samples_rejected)\n",
    "\n",
    "# run Monte Carlo\n",
    "MC = 1000\n",
    "samples, samples_rejected = sample_pareto_s(MC)\n",
    "\n",
    "plt.hist(samples, bins=50, edgecolor='black')\n",
    "plt.title('hist of Accepted Samples')\n",
    "plt.xlabel('Value')\n",
    "plt.ylabel('frequ')"
   ]
  },
  {
   "cell_type": "markdown",
   "metadata": {},
   "source": [
    "\n",
    "## c)"
   ]
  },
  {
   "cell_type": "code",
   "execution_count": null,
   "metadata": {},
   "outputs": [],
   "source": [
    "# Exp of S\n",
    "E_S = np.mean(samples)\n",
    "print(f\"E[S]: {E_S:.4f}\")\n",
    "\n",
    "# CI 99% of S\n",
    "std_dev = np.std(samples, ddof=1)\n",
    "z_alpha = 2.576  # z for 99% CI\n",
    "CI_lower = E_S - z_alpha * (std_dev / np.sqrt(MC))\n",
    "CI_upper = E_S + z_alpha * (std_dev / np.sqrt(MC))\n",
    "\n",
    "print(f\"99% Confidence Interval: ({CI_lower:.4f}, {CI_upper:.4f})\")\n",
    "\n",
    "# plot\n",
    "plt.hist(samples, bins=50, edgecolor='black')\n",
    "plt.axvline(CI_lower, color='red', linestyle='--', label='99% CI')\n",
    "plt.axvline(CI_upper, color='red', linestyle='--')\n",
    "plt.axvline(E_S, color='black', linestyle='-', label='E[S]')\n",
    "plt.title('hist of Accepted Samples')\n",
    "plt.xlabel('Value')\n",
    "plt.ylabel('frequ')\n",
    "plt.xlim(2, 8)\n",
    "plt.legend()\n",
    "\n",
    "\n"
   ]
  }
 ],
 "metadata": {
  "kernelspec": {
   "display_name": "Python 3",
   "language": "python",
   "name": "python3"
  },
  "language_info": {
   "codemirror_mode": {
    "name": "ipython",
    "version": 3
   },
   "file_extension": ".py",
   "mimetype": "text/x-python",
   "name": "python",
   "nbconvert_exporter": "python",
   "pygments_lexer": "ipython3",
   "version": "3.10.0"
  }
 },
 "nbformat": 4,
 "nbformat_minor": 2
}
